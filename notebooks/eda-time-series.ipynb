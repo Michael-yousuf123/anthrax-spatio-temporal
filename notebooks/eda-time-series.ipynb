{
 "cells": [
  {
   "cell_type": "code",
   "execution_count": null,
   "metadata": {},
   "outputs": [],
   "source": [
    "%matplotlib inline\n",
    "import warnings\n",
    "from datetime import date\n",
    "import pandas as pd\n",
    "import numpy as np\n",
    "import seaborn as sns\n",
    "import warnings\n",
    "import matplotlib.pyplot as plt\n",
    "warnings.filterwarnings('ignore')\n",
    "sns.set(style='darkgrid', context='notebook', color_codes=True)"
   ]
  },
  {
   "cell_type": "code",
   "execution_count": null,
   "metadata": {},
   "outputs": [],
   "source": [
    "import os,sys\n",
    "module_path = os.path.abspath(os.path.join(\"/home/miki/Desktop/Deployment/time-series/src\"))\n",
    "if module_path not in sys.path:\n",
    "    sys.path.append(module_path)"
   ]
  },
  {
   "cell_type": "code",
   "execution_count": null,
   "metadata": {},
   "outputs": [],
   "source": [
    "from feat import *"
   ]
  },
  {
   "cell_type": "code",
   "execution_count": null,
   "metadata": {},
   "outputs": [],
   "source": [
    "DATAPATH = \"/home/miki/Desktop/Deployment/time-series/data/raw/time.csv\"\n",
    "df = data_load(DATAPATH)"
   ]
  },
  {
   "cell_type": "code",
   "execution_count": null,
   "metadata": {},
   "outputs": [],
   "source": [
    "df"
   ]
  },
  {
   "cell_type": "code",
   "execution_count": null,
   "metadata": {},
   "outputs": [],
   "source": [
    "summary= summary_statistics(df['case'])\n",
    "sums = summary_statistics(df['death'])"
   ]
  },
  {
   "cell_type": "code",
   "execution_count": null,
   "metadata": {},
   "outputs": [],
   "source": [
    "summary\n",
    "## slight deviation of the data from the mean indicated and hence not normally distributed \n",
    "## median less than the mean indicates the skeweness of the data toward right\n",
    "## the minimum of the case is 0 and the maximum number of ifection reported is 210\n",
    "## the difference between the 75% IQR and the maximum case indicates that there are a potential \n",
    "## outliers in data"
   ]
  },
  {
   "cell_type": "code",
   "execution_count": null,
   "metadata": {},
   "outputs": [],
   "source": [
    "sums"
   ]
  },
  {
   "cell_type": "code",
   "execution_count": null,
   "metadata": {},
   "outputs": [],
   "source": [
    "df = check_index(df)"
   ]
  },
  {
   "cell_type": "code",
   "execution_count": null,
   "metadata": {},
   "outputs": [],
   "source": [
    "df"
   ]
  },
  {
   "cell_type": "code",
   "execution_count": null,
   "metadata": {},
   "outputs": [],
   "source": [
    "df.set_index('date',drop=True, inplace=True)\n",
    "df.index.freq = 'M'"
   ]
  },
  {
   "cell_type": "code",
   "execution_count": null,
   "metadata": {},
   "outputs": [],
   "source": [
    "df.plot(subplots=True, figsize=(14,8));"
   ]
  },
  {
   "cell_type": "code",
   "execution_count": null,
   "metadata": {},
   "outputs": [],
   "source": [
    "def plot_correlogram(x, lags=None, title=None):    \n",
    "    lags = min(10, int(len(x)/5)) if lags is None else lags\n",
    "    fig, axes = plt.subplots(nrows=2, ncols=2, figsize=(14, 8))\n",
    "    x.plot(ax=axes[0][0])\n",
    "    q_p = np.max(q_stat(acf(x, nlags=lags), len(x))[1])\n",
    "    stats = f'Q-Stat: {np.max(q_p):>8.2f}\\nADF: {adfuller(x)[1]:>11.2f}'\n",
    "    axes[0][0].text(x=.02, y=.85, s=stats, transform=axes[0][0].transAxes)\n",
    "    probplot(x, plot=axes[0][1])\n",
    "    mean, var, skew, kurtosis = moment(x, moment=[1, 2, 3, 4])\n",
    "    s = f'Mean: {mean:>12.2f}\\nSD: {np.sqrt(var):>16.2f}\\nSkew: {skew:12.2f}\\nKurtosis:{kurtosis:9.2f}'\n",
    "    axes[0][1].text(x=.02, y=.75, s=s, transform=axes[0][1].transAxes)\n",
    "    plot_acf(x=x, lags=lags, zero=False, ax=axes[1][0])\n",
    "    plot_pacf(x, lags=lags, zero=False, ax=axes[1][1])\n",
    "    axes[1][0].set_xlabel('Lag')\n",
    "    axes[1][1].set_xlabel('Lag')\n",
    "    fig.suptitle(title, fontsize=20)\n",
    "    fig.tight_layout()\n",
    "    fig.subplots_adjust(top=.9)"
   ]
  },
  {
   "cell_type": "code",
   "execution_count": null,
   "metadata": {},
   "outputs": [],
   "source": [
    "plot_correlogram(df['case'], lags=12)"
   ]
  },
  {
   "cell_type": "code",
   "execution_count": null,
   "metadata": {},
   "outputs": [],
   "source": [
    "plot_correlogram(df['death'], lags=12)"
   ]
  },
  {
   "cell_type": "code",
   "execution_count": null,
   "metadata": {},
   "outputs": [],
   "source": [
    "from statsmodels.tsa.stattools import adfuller\n",
    "\n",
    "def adfuller_test(series, sig=0.05, name=''):\n",
    "    res = adfuller(series, autolag='AIC')    \n",
    "    p_value = round(res[1], 3) \n",
    "\n",
    "    if p_value <= sig:\n",
    "        print(f\" {name} : P-Value = {p_value} => Stationary. \")\n",
    "    else:\n",
    "        print(f\" {name} : P-Value = {p_value} => Non-stationary.\")\n",
    "\n",
    "for name, column in df.iteritems():\n",
    "    adfuller_test(column, name=column.name)"
   ]
  },
  {
   "cell_type": "code",
   "execution_count": null,
   "metadata": {},
   "outputs": [],
   "source": [
    "train = df.iloc[:48]"
   ]
  },
  {
   "cell_type": "code",
   "execution_count": null,
   "metadata": {},
   "outputs": [],
   "source": [
    "train"
   ]
  },
  {
   "cell_type": "code",
   "execution_count": null,
   "metadata": {},
   "outputs": [],
   "source": [
    "model = VARMAX(df.iloc[:48], order=(1,1), trend='c').fit(maxiter=1000)"
   ]
  },
  {
   "cell_type": "code",
   "execution_count": null,
   "metadata": {},
   "outputs": [],
   "source": [
    "print(model.summary())"
   ]
  },
  {
   "cell_type": "code",
   "execution_count": null,
   "metadata": {},
   "outputs": [],
   "source": [
    "model.plot_diagnostics(variable=0, figsize=(14,8), lags=24)\n",
    "plt.gcf().suptitle('Industrial Production - Diagnostics', fontsize=20)\n",
    "plt.tight_layout()\n",
    "plt.subplots_adjust(top=.9);"
   ]
  },
  {
   "cell_type": "code",
   "execution_count": null,
   "metadata": {},
   "outputs": [],
   "source": [
    "model.plot_diagnostics(variable=1, figsize=(14,8), lags=24)\n",
    "plt.title('Sentiment - Diagnostics');"
   ]
  },
  {
   "cell_type": "code",
   "execution_count": null,
   "metadata": {},
   "outputs": [],
   "source": [
    "median_change = df.diff().quantile(.5).tolist()\n",
    "model.impulse_responses(steps=12, impulse=median_change).plot.bar(subplots=True);"
   ]
  },
  {
   "cell_type": "code",
   "execution_count": null,
   "metadata": {},
   "outputs": [],
   "source": [
    "import matplotlib.transforms as mtransforms\n",
    "\n",
    "start = 43\n",
    "preds = model.predict(start=48, end=len(df)-1)\n",
    "preds.index = df.index[48:]\n",
    "\n",
    "fig, axes = plt.subplots(nrows=2, figsize=(12, 8))\n",
    "\n",
    "df.case.iloc[start:].plot(ax=axes[0], label='actual', title='Industrial Production')\n",
    "preds.case.plot(label='predicted', ax=axes[0])\n",
    "trans = mtransforms.blended_transform_factory(axes[0].transData, axes[0].transAxes)\n",
    "axes[0].legend()\n",
    "axes[0].fill_between(x=df.index[48:], y1=0, y2=1, transform=trans, color='grey', alpha=.5)\n",
    "\n",
    "trans = mtransforms.blended_transform_factory(axes[0].transData, axes[1].transAxes)\n",
    "df.death.iloc[start:].plot(ax=axes[1], label='actual', title='Sentiment')\n",
    "preds.death.plot(label='predicted', ax=axes[1])\n",
    "axes[1].fill_between(x=df.index[48:], y1=0, y2=1, transform=trans, color='grey', alpha=.5)\n",
    "fig.tight_layout();"
   ]
  },
  {
   "cell_type": "code",
   "execution_count": null,
   "metadata": {},
   "outputs": [],
   "source": [
    "forecast = model.forecast(steps=24)\n",
    "\n",
    "fig, axes = plt.subplots(nrows=2, figsize=(12, 8))\n",
    "\n",
    "df.case.plot(ax=axes[0], label='actual', title='Liquor')\n",
    "preds.case.plot(label='predicted', ax=axes[0])\n",
    "axes[0].legend()\n",
    "\n",
    "df.death.plot(ax=axes[1], label='actual', title='Sentiment')\n",
    "preds.death.plot(label='predicted', ax=axes[1])\n",
    "axes[1]\n",
    "fig.tight_layout();"
   ]
  }
 ],
 "metadata": {
  "language_info": {
   "name": "python"
  },
  "orig_nbformat": 4
 },
 "nbformat": 4,
 "nbformat_minor": 2
}
